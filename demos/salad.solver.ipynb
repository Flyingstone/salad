{
 "cells": [
  {
   "cell_type": "markdown",
   "metadata": {},
   "source": [
    "# salad.solver Demo\n",
    "\n",
    "In this tutorial we will step through the use of solvers within the ``salad`` package.\n",
    "Solvers are located in the ``salad.solver`` package and form a hierarchy for different application purposes.\n",
    "All solvers are subclasses of ``salad.solver.Solver``, which contains the basic training mechanisms, functions for logging etc."
   ]
  },
  {
   "cell_type": "code",
   "execution_count": 1,
   "metadata": {},
   "outputs": [],
   "source": [
    "import numpy\n",
    "import torch\n",
    "from torch import nn\n",
    "import matplotlib.pyplot as plt\n",
    "\n",
    "%matplotlib inline\n",
    "%config InlineBackend.figure_format = 'svg'"
   ]
  },
  {
   "cell_type": "markdown",
   "metadata": {},
   "source": [
    "Solvers are instantiated in the following way:"
   ]
  }
 ],
 "metadata": {
  "kernelspec": {
   "display_name": "Python 3",
   "language": "python",
   "name": "python3"
  },
  "language_info": {
   "codemirror_mode": {
    "name": "ipython",
    "version": 3
   },
   "file_extension": ".py",
   "mimetype": "text/x-python",
   "name": "python",
   "nbconvert_exporter": "python",
   "pygments_lexer": "ipython3",
   "version": "3.6.3"
  }
 },
 "nbformat": 4,
 "nbformat_minor": 2
}
